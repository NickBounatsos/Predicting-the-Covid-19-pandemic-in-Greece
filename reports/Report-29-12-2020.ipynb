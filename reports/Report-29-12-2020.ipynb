{
 "cells": [
  {
   "cell_type": "code",
   "execution_count": 1,
   "metadata": {},
   "outputs": [],
   "source": [
    "import pandas as pd\n",
    "import datetime\n",
    "new_cases_csv=(r'C:\\Users\\Nick\\Documents\\git\\reports\\predicted_new_cases_csv\\predicted_new_cases_for_' + str((datetime.datetime.today()).strftime('%d-%m-%Y')) + '.csv')\n",
    "new_deaths_csv=(r'C:\\Users\\Nick\\Documents\\git\\reports\\predicted_new_deaths_csv\\predicted_new_deaths_for_' + str((datetime.datetime.today()).strftime('%d-%m-%Y')) + '.csv')\n",
    "new_intubated_csv=(r'C:\\Users\\Nick\\Documents\\git\\reports\\predicted_new_intubated_csv\\predicted_new_intubated_for_' + str((datetime.datetime.today()).strftime('%d-%m-%Y')) + '.csv')\n",
    "actual_cases_csv=(r'C:\\Users\\Nick\\Documents\\git\\reports\\actual_new_cases_csv\\actual_new_cases_for_' + str((datetime.datetime.today()).strftime('%d-%m-%Y')) + '.csv')\n",
    "actual_deaths_csv=(r'C:\\Users\\Nick\\Documents\\git\\reports\\actual_new_deaths_csv\\actual_new_deaths_for_' + str((datetime.datetime.today()).strftime('%d-%m-%Y')) + '.csv')\n",
    "actual_intubated_csv=(r'C:\\Users\\Nick\\Documents\\git\\reports\\actual_new_intubated_csv\\actual_new_intubated_for_' + str((datetime.datetime.today()).strftime('%d-%m-%Y')) + '.csv')\n",
    "df_pnc=pd.read_csv(new_cases_csv)\n",
    "df_pnd=pd.read_csv(new_deaths_csv)\n",
    "df_pni=pd.read_csv(new_intubated_csv)\n",
    "df_anc=pd.read_csv(actual_cases_csv)\n",
    "df_and=pd.read_csv(actual_deaths_csv)\n",
    "df_ani=pd.read_csv(actual_intubated_csv)"
   ]
  },
  {
   "cell_type": "code",
   "execution_count": 2,
   "metadata": {},
   "outputs": [
    {
     "data": {
      "text/html": [
       "<div>\n",
       "<style scoped>\n",
       "    .dataframe tbody tr th:only-of-type {\n",
       "        vertical-align: middle;\n",
       "    }\n",
       "\n",
       "    .dataframe tbody tr th {\n",
       "        vertical-align: top;\n",
       "    }\n",
       "\n",
       "    .dataframe thead th {\n",
       "        text-align: right;\n",
       "    }\n",
       "</style>\n",
       "<table border=\"1\" class=\"dataframe\">\n",
       "  <thead>\n",
       "    <tr style=\"text-align: right;\">\n",
       "      <th></th>\n",
       "      <th>Date Reported</th>\n",
       "      <th>New Cases Predicted</th>\n",
       "      <th>Actual Cases</th>\n",
       "      <th>Difference</th>\n",
       "      <th>% Difference</th>\n",
       "    </tr>\n",
       "  </thead>\n",
       "  <tbody>\n",
       "    <tr>\n",
       "      <th>0</th>\n",
       "      <td>2020-12-30</td>\n",
       "      <td>774</td>\n",
       "      <td>942</td>\n",
       "      <td>168</td>\n",
       "      <td>19.58042</td>\n",
       "    </tr>\n",
       "  </tbody>\n",
       "</table>\n",
       "</div>"
      ],
      "text/plain": [
       "  Date Reported  New Cases Predicted  Actual Cases  Difference  % Difference\n",
       "0    2020-12-30                  774           942         168      19.58042"
      ]
     },
     "execution_count": 2,
     "metadata": {},
     "output_type": "execute_result"
    }
   ],
   "source": [
    "df_pnc=df_pnc.rename(columns={\"ds\": \"Date Reported\", \"yhat\": \"New Cases Predicted\"})\n",
    "df_anc=df_anc.rename(columns={\"Date_reported\": \"Date Reported\", \"New_cases\": \"Actual Cases\"})\n",
    "df_pnc[\"Actual Cases\"]=df_anc[\"Actual Cases\"]\n",
    "df_pnc[\"Difference\"]=(df_pnc[\"New Cases Predicted\"]-df_pnc[\"Actual Cases\"]).abs()\n",
    "V1=df_pnc[\"New Cases Predicted\"]\n",
    "V2=df_pnc[\"Actual Cases\"]\n",
    "x1=((V1+V2)/2)\n",
    "df_pnc[\"% Difference\"]=(df_pnc[\"Difference\"]/x1)*100\n",
    "df_pnc"
   ]
  },
  {
   "cell_type": "code",
   "execution_count": 3,
   "metadata": {},
   "outputs": [
    {
     "data": {
      "text/html": [
       "<div>\n",
       "<style scoped>\n",
       "    .dataframe tbody tr th:only-of-type {\n",
       "        vertical-align: middle;\n",
       "    }\n",
       "\n",
       "    .dataframe tbody tr th {\n",
       "        vertical-align: top;\n",
       "    }\n",
       "\n",
       "    .dataframe thead th {\n",
       "        text-align: right;\n",
       "    }\n",
       "</style>\n",
       "<table border=\"1\" class=\"dataframe\">\n",
       "  <thead>\n",
       "    <tr style=\"text-align: right;\">\n",
       "      <th></th>\n",
       "      <th>Date Reported</th>\n",
       "      <th>New Deaths Predicted</th>\n",
       "      <th>Actual Deaths</th>\n",
       "      <th>Difference</th>\n",
       "      <th>% Difference</th>\n",
       "    </tr>\n",
       "  </thead>\n",
       "  <tbody>\n",
       "    <tr>\n",
       "      <th>0</th>\n",
       "      <td>2020-12-30</td>\n",
       "      <td>56</td>\n",
       "      <td>58</td>\n",
       "      <td>2</td>\n",
       "      <td>3.508772</td>\n",
       "    </tr>\n",
       "  </tbody>\n",
       "</table>\n",
       "</div>"
      ],
      "text/plain": [
       "  Date Reported  New Deaths Predicted  Actual Deaths  Difference  % Difference\n",
       "0    2020-12-30                    56             58           2      3.508772"
      ]
     },
     "execution_count": 3,
     "metadata": {},
     "output_type": "execute_result"
    }
   ],
   "source": [
    "df_pnd=df_pnd.rename(columns={\"ds\": \"Date Reported\", \"yhat\": \"New Deaths Predicted\"})\n",
    "df_and=df_and.rename(columns={\"Date_reported\": \"Date Reported\", \"New_deaths\": \"Actual Deaths\"})\n",
    "df_pnd[\"Actual Deaths\"] = df_and[\"Actual Deaths\"]\n",
    "df_pnd[\"Difference\"]=(df_pnd[\"New Deaths Predicted\"]-df_pnd[\"Actual Deaths\"]).abs()\n",
    "V1=df_pnd[\"New Deaths Predicted\"]\n",
    "V2=df_pnd[\"Actual Deaths\"]\n",
    "x1=((V1+V2)/2)\n",
    "df_pnd[\"% Difference\"]=(df_pnd[\"Difference\"]/x1)*100\n",
    "df_pnd.head(1)"
   ]
  },
  {
   "cell_type": "code",
   "execution_count": 4,
   "metadata": {},
   "outputs": [
    {
     "data": {
      "text/html": [
       "<div>\n",
       "<style scoped>\n",
       "    .dataframe tbody tr th:only-of-type {\n",
       "        vertical-align: middle;\n",
       "    }\n",
       "\n",
       "    .dataframe tbody tr th {\n",
       "        vertical-align: top;\n",
       "    }\n",
       "\n",
       "    .dataframe thead th {\n",
       "        text-align: right;\n",
       "    }\n",
       "</style>\n",
       "<table border=\"1\" class=\"dataframe\">\n",
       "  <thead>\n",
       "    <tr style=\"text-align: right;\">\n",
       "      <th></th>\n",
       "      <th>Date Reported</th>\n",
       "      <th>New Intubated Predicted</th>\n",
       "      <th>Actual Intubated</th>\n",
       "      <th>Difference</th>\n",
       "      <th>% Difference</th>\n",
       "    </tr>\n",
       "  </thead>\n",
       "  <tbody>\n",
       "    <tr>\n",
       "      <th>0</th>\n",
       "      <td>2020-12-30</td>\n",
       "      <td>450</td>\n",
       "      <td>443</td>\n",
       "      <td>7</td>\n",
       "      <td>1.567749</td>\n",
       "    </tr>\n",
       "  </tbody>\n",
       "</table>\n",
       "</div>"
      ],
      "text/plain": [
       "  Date Reported  New Intubated Predicted  Actual Intubated  Difference  \\\n",
       "0    2020-12-30                      450               443           7   \n",
       "\n",
       "   % Difference  \n",
       "0      1.567749  "
      ]
     },
     "execution_count": 4,
     "metadata": {},
     "output_type": "execute_result"
    }
   ],
   "source": [
    "df_pni=df_pni.rename(columns={\"ds\": \"Date Reported\", \"yhat\": \"New Intubated Predicted\"})\n",
    "df_ani=df_ani.rename(columns={\"Date_reported\": \"Date Reported\", \"intubated\": \"Actual Intubated\"})\n",
    "df_pni[\"Actual Intubated\"] = df_ani[\"Actual Intubated\"]\n",
    "df_pni[\"Difference\"]=(df_pni[\"New Intubated Predicted\"]-df_pni[\"Actual Intubated\"]).abs()\n",
    "V1=df_pni[\"New Intubated Predicted\"]\n",
    "V2=df_pni[\"Actual Intubated\"]\n",
    "x1=((V1+V2)/2)\n",
    "df_pni[\"% Difference\"]=(df_pni[\"Difference\"]/x1)*100\n",
    "df_pni.head(1)"
   ]
  },
  {
   "cell_type": "markdown",
   "metadata": {},
   "source": []
  },
  {
   "cell_type": "code",
   "execution_count": null,
   "metadata": {},
   "outputs": [],
   "source": []
  }
 ],
 "metadata": {
  "kernelspec": {
   "display_name": "Python 3",
   "language": "python",
   "name": "python3"
  },
  "language_info": {
   "codemirror_mode": {
    "name": "ipython",
    "version": 3
   },
   "file_extension": ".py",
   "mimetype": "text/x-python",
   "name": "python",
   "nbconvert_exporter": "python",
   "pygments_lexer": "ipython3",
   "version": "3.8.5"
  }
 },
 "nbformat": 4,
 "nbformat_minor": 4
}
